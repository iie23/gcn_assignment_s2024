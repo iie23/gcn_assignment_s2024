{
 "cells": [
  {
   "cell_type": "code",
   "execution_count": 1,
   "id": "1dfa1cbf",
   "metadata": {},
   "outputs": [],
   "source": [
    "import sys"
   ]
  },
  {
   "cell_type": "code",
   "execution_count": 2,
   "id": "b8636301",
   "metadata": {},
   "outputs": [],
   "source": [
    "sys.path.append(\"..\")"
   ]
  },
  {
   "cell_type": "code",
   "execution_count": 4,
   "id": "96be7457",
   "metadata": {},
   "outputs": [],
   "source": [
    "import torch\n",
    "from src.data.graph import Graph"
   ]
  },
  {
   "cell_type": "code",
   "execution_count": 5,
   "id": "c68c0053",
   "metadata": {},
   "outputs": [
    {
     "name": "stdout",
     "output_type": "stream",
     "text": [
      "/Users/ifeanyiene/gcn_assignment_s2024/notebooks\n"
     ]
    }
   ],
   "source": [
    "!pwd"
   ]
  },
  {
   "cell_type": "markdown",
   "id": "eefaabbd",
   "metadata": {},
   "source": [
    "#### We will start exploring the graph by instantiating a Graph object. That requires defining an argument dictionary.\n"
   ]
  },
  {
   "cell_type": "code",
   "execution_count": 17,
   "id": "df96e646",
   "metadata": {},
   "outputs": [],
   "source": [
    "args = {\n",
    "        \"graph\": \"citeseer\",  # name of the graph\n",
    "        \"basepath\": \"../data\",  # path to the directory that has the graph files\n",
    "        \"task\": \"classify\",  # the task\n",
    "        \"test_frac\": 0.20,  #  fraction of the edges to be used as test split\n",
    "        \"val_frac\": 0.20,  #  fraction of the edges to be used as val split\n",
    "        \"gpu\": False  # we don't need a GPU for exploring the graph\n",
    "        } "
   ]
  },
  {
   "cell_type": "markdown",
   "id": "c2e62746",
   "metadata": {},
   "source": []
  },
  {
   "cell_type": "code",
   "execution_count": 18,
   "id": "2f088b83",
   "metadata": {},
   "outputs": [
    {
     "name": "stdout",
     "output_type": "stream",
     "text": [
      "Loading citeseer dataset...\n",
      "Found 4715 edges\n"
     ]
    }
   ],
   "source": [
    "graph = Graph(**args)"
   ]
  },
  {
   "cell_type": "markdown",
   "id": "60b3e1cf",
   "metadata": {},
   "source": [
    "### Each graph object has three important attributes\n",
    "1. Node features\n",
    "2. Node labels\n",
    "3. The adjacency matrix (sparse coo matrix)"
   ]
  },
  {
   "cell_type": "code",
   "execution_count": 19,
   "id": "0c296f9c",
   "metadata": {},
   "outputs": [
    {
     "data": {
      "text/plain": [
       "(3312, 3703)"
      ]
     },
     "execution_count": 19,
     "metadata": {},
     "output_type": "execute_result"
    }
   ],
   "source": [
    "# extract the number of nodes and features\n",
    "num_nodes, num_features = graph.features.shape\n",
    "num_nodes, num_features"
   ]
  },
  {
   "cell_type": "code",
   "execution_count": 20,
   "id": "9bb0c018",
   "metadata": {},
   "outputs": [
    {
     "data": {
      "text/plain": [
       "tensor([1, 4, 1,  ..., 4, 2, 5])"
      ]
     },
     "execution_count": 20,
     "metadata": {},
     "output_type": "execute_result"
    }
   ],
   "source": [
    "graph.labels"
   ]
  },
  {
   "cell_type": "markdown",
   "id": "80973176",
   "metadata": {},
   "source": [
    "##### Extract the ede information"
   ]
  },
  {
   "cell_type": "code",
   "execution_count": 21,
   "id": "7d0ff64c",
   "metadata": {},
   "outputs": [],
   "source": [
    "edges = graph.adj.coalesce().indices().T.tolist()"
   ]
  },
  {
   "cell_type": "code",
   "execution_count": 22,
   "id": "0f5d8341",
   "metadata": {},
   "outputs": [
    {
     "data": {
      "text/plain": [
       "[[0, 0], [0, 99], [0, 111], [0, 381]]"
      ]
     },
     "execution_count": 22,
     "metadata": {},
     "output_type": "execute_result"
    }
   ],
   "source": [
    "edges[:4]  # edges is a list of [node1, node2] elements, indicating an edge between node1 and node 2 "
   ]
  },
  {
   "cell_type": "code",
   "execution_count": 23,
   "id": "a1008da9",
   "metadata": {},
   "outputs": [
    {
     "data": {
      "text/plain": [
       "12384"
      ]
     },
     "execution_count": 23,
     "metadata": {},
     "output_type": "execute_result"
    }
   ],
   "source": [
    "num_edges = len(edges);\n",
    "num_edges"
   ]
  },
  {
   "cell_type": "code",
   "execution_count": 24,
   "id": "ec30a460",
   "metadata": {},
   "outputs": [],
   "source": [
    "from collections import defaultdict\n",
    "def find_degree_per_node(edges):\n",
    "    in_degree = defaultdict(int)\n",
    "\n",
    "    for (src, tgt) in edges:\n",
    "        in_degree[tgt] += 1\n",
    "    \n",
    "    avg_in_degree = sum(in_degree.values()) / len(in_degree)\n",
    "    max_in_degree = max(in_degree.values())\n",
    "    min_in_degree = min(in_degree.values())\n",
    "    \n",
    "    \n",
    "    print(avg_in_degree, max_in_degree, min_in_degree)\n",
    "    \n",
    "        "
   ]
  },
  {
   "cell_type": "code",
   "execution_count": 25,
   "id": "f3efd0ad",
   "metadata": {},
   "outputs": [
    {
     "name": "stdout",
     "output_type": "stream",
     "text": [
      "3.739130434782609 100 1\n"
     ]
    }
   ],
   "source": [
    "find_degree_per_node(edges)"
   ]
  },
  {
   "cell_type": "code",
   "execution_count": null,
   "id": "e55e30aa",
   "metadata": {},
   "outputs": [],
   "source": []
  },
  {
   "cell_type": "code",
   "execution_count": null,
   "id": "1d280973-d1c9-4c68-a2fe-19fed26a0b5b",
   "metadata": {},
   "outputs": [],
   "source": []
  }
 ],
 "metadata": {
  "kernelspec": {
   "display_name": "Python 3 (ipykernel)",
   "language": "python",
   "name": "python3"
  },
  "language_info": {
   "codemirror_mode": {
    "name": "ipython",
    "version": 3
   },
   "file_extension": ".py",
   "mimetype": "text/x-python",
   "name": "python",
   "nbconvert_exporter": "python",
   "pygments_lexer": "ipython3",
   "version": "3.11.5"
  }
 },
 "nbformat": 4,
 "nbformat_minor": 5
}
