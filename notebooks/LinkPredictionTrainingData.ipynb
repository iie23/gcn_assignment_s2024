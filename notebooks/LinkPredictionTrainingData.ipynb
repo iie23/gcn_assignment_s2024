{
 "cells": [
  {
   "cell_type": "code",
   "execution_count": 1,
   "id": "94c97750",
   "metadata": {},
   "outputs": [],
   "source": [
    "import sys\n",
    "sys.path.append(\"..\")\n",
    "import torch\n",
    "from collections import Counter\n",
    "from src.data.graph import Graph"
   ]
  },
  {
   "cell_type": "markdown",
   "id": "adf4d319",
   "metadata": {},
   "source": [
    "### Load the graph"
   ]
  },
  {
   "cell_type": "code",
   "execution_count": 12,
   "id": "f108ff92",
   "metadata": {},
   "outputs": [],
   "source": [
    "args = {\n",
    "        \"graph\": \"citeseer\",  # name of the graph\n",
    "        \"basepath\": \"../data\",  # path to the directory that has the graph files\n",
    "        \"task\": \"link_pred\",  # the task\n",
    "        \"test_frac\": 0.20,  #  fraction of the edges to be used as test split\n",
    "        \"val_frac\": 0.20,  #  fraction of the edges to be used as val split\n",
    "        \"gpu\": False  # we don't need a GPU for exploring the graph\n",
    "        } "
   ]
  },
  {
   "cell_type": "code",
   "execution_count": 13,
   "id": "21559e39",
   "metadata": {},
   "outputs": [
    {
     "name": "stdout",
     "output_type": "stream",
     "text": [
      "Loading citeseer dataset...\n",
      "Found 4715 edges\n"
     ]
    },
    {
     "name": "stderr",
     "output_type": "stream",
     "text": [
      "INFO:root:Loading edges\n"
     ]
    }
   ],
   "source": [
    "graph = Graph(**args)"
   ]
  },
  {
   "cell_type": "markdown",
   "id": "d4da2a1f",
   "metadata": {},
   "source": [
    "#### Explore Edges"
   ]
  },
  {
   "cell_type": "code",
   "execution_count": 14,
   "id": "7c554271",
   "metadata": {},
   "outputs": [
    {
     "data": {
      "text/plain": [
       "torch.Size([2, 7432])"
      ]
     },
     "execution_count": 14,
     "metadata": {},
     "output_type": "execute_result"
    }
   ],
   "source": [
    "graph.train_edges_positive.shape  # (2, num_edges)"
   ]
  },
  {
   "cell_type": "code",
   "execution_count": 15,
   "id": "830547a1",
   "metadata": {},
   "outputs": [
    {
     "data": {
      "text/plain": [
       "torch.Size([14864])"
      ]
     },
     "execution_count": 15,
     "metadata": {},
     "output_type": "execute_result"
    }
   ],
   "source": [
    "graph.train_edge_labels.shape # (num_edges)"
   ]
  },
  {
   "cell_type": "code",
   "execution_count": 16,
   "id": "1c117d14",
   "metadata": {},
   "outputs": [
    {
     "data": {
      "text/plain": [
       "Counter({1: 12384, 0: 12384})"
      ]
     },
     "execution_count": 16,
     "metadata": {},
     "output_type": "execute_result"
    }
   ],
   "source": [
    "Counter(graph.train_edge_labels.tolist() \\\n",
    "        + graph.val_edge_labels.tolist() \\\n",
    "        + graph.test_edge_labels.tolist())  #  total number of positive and negative edges"
   ]
  },
  {
   "cell_type": "code",
   "execution_count": null,
   "id": "e8e3ee64",
   "metadata": {},
   "outputs": [],
   "source": []
  },
  {
   "cell_type": "code",
   "execution_count": null,
   "id": "5afdf5a6-6b64-45f8-b24e-e48fe5927118",
   "metadata": {},
   "outputs": [],
   "source": []
  }
 ],
 "metadata": {
  "kernelspec": {
   "display_name": "Python 3 (ipykernel)",
   "language": "python",
   "name": "python3"
  },
  "language_info": {
   "codemirror_mode": {
    "name": "ipython",
    "version": 3
   },
   "file_extension": ".py",
   "mimetype": "text/x-python",
   "name": "python",
   "nbconvert_exporter": "python",
   "pygments_lexer": "ipython3",
   "version": "3.11.5"
  }
 },
 "nbformat": 4,
 "nbformat_minor": 5
}
